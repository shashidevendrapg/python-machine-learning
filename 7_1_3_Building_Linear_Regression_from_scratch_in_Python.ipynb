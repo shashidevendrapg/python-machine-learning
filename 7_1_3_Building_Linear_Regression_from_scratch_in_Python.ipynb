{
  "nbformat": 4,
  "nbformat_minor": 0,
  "metadata": {
    "colab": {
      "provenance": []
    },
    "kernelspec": {
      "name": "python3",
      "display_name": "Python 3"
    },
    "language_info": {
      "name": "python"
    }
  },
  "cells": [
    {
      "cell_type": "markdown",
      "source": [
        "__Linear Regression__\n",
        "\n",
        "\n",
        "$Y = w \\space X + b$\n",
        "\n",
        "$Y$ : Dependent Variable\n",
        "\n",
        "$X$ : Independent Variable\n",
        "\n",
        "$w$ : Weight\n",
        "\n",
        "$b$ : Bias\n",
        "\n",
        "\n",
        "\n",
        "__Gredient Decent__\n",
        "\n",
        "$\n",
        "w = w - α \\cdot \\partial{w} \\\\\n",
        "b = b - α \\cdot \\partial{b} \\\\[1em]\n",
        "\\partial{w} = \\frac{-2}{n} \\sum_{i=0}^{n}{x_i \\space (y_i - y_{i \\space pred})} \\\\\n",
        "\\partial{b} = \\frac{-2}{n} \\sum_{i=0}^{n}{(y_i - y_{i \\space pred})}\n",
        "$"
      ],
      "metadata": {
        "id": "1-JwO3nGkSSo"
      }
    },
    {
      "cell_type": "code",
      "execution_count": 2,
      "metadata": {
        "id": "2cZ3TXZWi4lZ"
      },
      "outputs": [],
      "source": [
        "# importing numpy library\n",
        "import numpy as np"
      ]
    },
    {
      "cell_type": "markdown",
      "source": [
        "**Linear Regression**"
      ],
      "metadata": {
        "id": "9CjP9apck8kN"
      }
    },
    {
      "cell_type": "code",
      "source": [
        "class Linear_Regression():\n",
        "\n",
        "# initiating the parameters ( learing rate & no. of iterations )\n",
        "  def __init__(self, learing_rate, no_of_iteration):\n",
        "\n",
        "    self.learning_rate = learing_rate\n",
        "    self.no_of_iteration = no_of_iteration\n",
        "\n",
        "\n",
        "  def fit(self, X, Y):\n",
        "\n",
        "    # number of training examples (m) & number of features (n)\n",
        "\n",
        "    self.m, self.n = X.shape  # number of rows and columns\n",
        "\n",
        "    # initiating the weights and bias\n",
        "\n",
        "    self.w = np.zeros(self.n)\n",
        "    self.b = 0\n",
        "    self.X = X\n",
        "    self.Y = Y\n",
        "\n",
        "    # implementing Gradient Desent\n",
        "\n",
        "    for i in range(self.no_of_iteration):\n",
        "      self.updates_weights()\n",
        "\n",
        "\n",
        "\n",
        "  def updates_weights(self, ):\n",
        "\n",
        "    Y_prediction = self.predict(self.X)\n",
        "\n",
        "    # calculate gredients\n",
        "\n",
        "    dw = - (2 * (self.X.T).dot(self.Y - Y_prediction)) / self.m\n",
        "    db = - (2 * np.sum(self.Y - Y_prediction)) / self.m\n",
        "\n",
        "    # updating the weights\n",
        "\n",
        "    self.w = self.w - self.learning_rate * dw\n",
        "    self.b = self.b - self.learning_rate * db\n",
        "\n",
        "\n",
        "  def predict(self, X):\n",
        "\n",
        "    return X.dot(self.w) + self.b\n",
        "\n",
        "\n",
        ""
      ],
      "metadata": {
        "id": "r4Fm5D5Nk6sV"
      },
      "execution_count": 7,
      "outputs": []
    },
    {
      "cell_type": "code",
      "source": [
        "from sklearn.linear_model import LinearRegression\n",
        "model = Linear_Regression()"
      ],
      "metadata": {
        "id": "iL7IGXzxnOgY"
      },
      "execution_count": null,
      "outputs": []
    }
  ]
}